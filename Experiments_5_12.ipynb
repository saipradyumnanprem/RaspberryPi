{
  "nbformat": 4,
  "nbformat_minor": 0,
  "metadata": {
    "colab": {
      "provenance": []
    },
    "kernelspec": {
      "name": "python3",
      "display_name": "Python 3"
    },
    "language_info": {
      "name": "python"
    }
  },
  "cells": [
    {
      "cell_type": "markdown",
      "source": [
        "\n",
        "EXPERIMENT 5 - Led Blinking & Brightness Control"
      ],
      "metadata": {
        "id": "3Z-nc1ss-SeB"
      }
    },
    {
      "cell_type": "code",
      "execution_count": null,
      "metadata": {
        "id": "M3Azjb1b-OsE"
      },
      "outputs": [],
      "source": [
        "import RPi.GPIO as GPIO\n",
        "from time import sleep\n",
        "\n",
        "GPIO.setmode(BOARD)\n",
        "GPIO.setup(8, GPIO.OUT)\n",
        "\n",
        "while True:\n",
        "    GPIO.OUTPUT(8, GPIO.HIGH)\n",
        "    sleep(5)\n",
        "    GPIO.OUTPUT(8, GPIO.LOW)\n",
        "    sleep(5)\n",
        "\n",
        "\n",
        "from Rpi.GPIO import GPIO\n",
        "from time import sleep\n",
        "\n",
        "GPIO.setmode(GPIO.BCM)\n",
        "GPIO.setup(18, GPIO.OUT)\n",
        "\n",
        "pwm = GPIO.PWM(18, 500)\n",
        "pwm.start(100)\n",
        "\n",
        "while True:\n",
        "    duty_s = int(input(\"Enter the Brightness: \"))\n",
        "    pwm.ChangeDutyCycle(duty_s)"
      ]
    },
    {
      "cell_type": "markdown",
      "source": [
        "EXPERIMENT 6 - Switching a High-Power DC Device"
      ],
      "metadata": {
        "id": "m-J363pmEFnC"
      }
    },
    {
      "cell_type": "code",
      "source": [
        "import RPi.GPIO  as GPIO\n",
        "from time import sleep\n",
        "\n",
        "GPIO.setmode(GPIO.BOARD)\n",
        "GPIO.setup(18, GPIO.OUT)\n",
        "\n",
        "while True:\n",
        "    x = input(\"Enter on / off / exit: \")\n",
        "    if x == 'on':\n",
        "      GPIO.output(18, GPIO.HIGH)\n",
        "    elif x == 'off':\n",
        "      GPIO.output(18, GPIO.LOW)\n",
        "    elif x == 'exit':\n",
        "      break\n",
        "\n",
        "GPIO.cleanup()"
      ],
      "metadata": {
        "id": "fOUoaoebBrWU"
      },
      "execution_count": null,
      "outputs": []
    },
    {
      "cell_type": "markdown",
      "source": [
        "EXPERIMENT 7 - Programming on Interrupts"
      ],
      "metadata": {
        "id": "NukVvJYVEHgT"
      }
    },
    {
      "cell_type": "code",
      "source": [
        "import RPi.GPIO as GPIO\n",
        "from time import sleep\n",
        "\n",
        "led1 = 27 \n",
        "led2 = 31\n",
        "input1 = 29\n",
        "input2 = 33\n",
        "\n",
        "GPIO.setmode(GPIO.BOARD)\n",
        "GPIO.setup(input1, GPIO.IN)\n",
        "GPIO.setup(input2, GPIO.IN)\n",
        "GPIO.setup(led1, GPIO.OUT)\n",
        "GPIO.setup(led2, GPIO.OUT)\n",
        "\n",
        "pos_edge = 0\n",
        "neg_edge = 0\n",
        "\n",
        "def INTL2H():\n",
        "    print(\"Inside Interrupt 1\")\n",
        "    global pos_edge\n",
        "    GPIO.output(led1, GPIO.HIGH)\n",
        "    pos_edge += 1\n",
        "    sleep(2)\n",
        "    GPIO.output(led1, GPIO.LOW)\n",
        "    print(\"Number of Positive Edges: \", pos_edge)\n",
        "    print(\"Exiting Interrupt 1\")\n",
        "    sleep(2)\n",
        "\n",
        "\n",
        "def INTH2L():\n",
        "    print(\"Inside Interrupt 2\")\n",
        "    global neg_edge\n",
        "    GPIO.output(led1, GPIO.LOW)\n",
        "    neg_edge += 1\n",
        "    sleep(2)\n",
        "    GPIO.output(led1, GPIO.HIGH)\n",
        "    print(\"Number of Negative Edges: \", neg_edge)\n",
        "    print(\"Exiting Interrupt 2\")\n",
        "    sleep(2)\n",
        "\n",
        "\n",
        "while True:\n",
        "    if input(\"Type Y to enter into Interrupt1: \") == 'Y':\n",
        "        INTL2H()\n",
        "    if input(\"Type Y to enter into Interrupt2: \") == 'Y':\n",
        "        INTH2L()\n",
        "    if input(\"Type Y to Exit: \") == 'Y':\n",
        "        break\n"
      ],
      "metadata": {
        "id": "KhK5z_YtBrRf"
      },
      "execution_count": null,
      "outputs": []
    },
    {
      "cell_type": "markdown",
      "source": [
        "EXPERIMENT 8 - Programming on Stepper Motor"
      ],
      "metadata": {
        "id": "6DUNr1sZEJJc"
      }
    },
    {
      "cell_type": "code",
      "source": [
        "import RPi.GPIO as GPIO\n",
        "from time import sleep\n",
        "\n",
        "a1_pin = 22\n",
        "a2_pin = 24\n",
        "b1_pin = 26\n",
        "b2_pin = 28\n",
        "\n",
        "GPIO.setmode(GPIO.BOARD)\n",
        "GPIO.setup(a1_pin, GPIO.OUT)\n",
        "GPIO.setup(a2_pin, GPIO.OUT)\n",
        "GPIO.setup(b1_pin, GPIO.OUT)\n",
        "GPIO.setup(b2_pin, GPIO.OUT)\n",
        "\n",
        "forward = ['1010', '0110', '0101', '1001']\n",
        "backward = ['1001', '0101', '0110', '1010']\n",
        "\n",
        "def mov_frwd(delay, steps):\n",
        "    for i in range(steps):\n",
        "        for step in forward:\n",
        "          print(step)\n",
        "          set_step(step)\n",
        "          sleep(delay)\n",
        "\n",
        "\n",
        "def mov_bkwd(delay, steps):\n",
        "    for i in range(steps):\n",
        "        for step in backward:\n",
        "          print(step)\n",
        "          set_step(step)\n",
        "          sleep(delay)\n",
        "\n",
        "def set_step(step):\n",
        "    GPIO.output(a1_pin, step[0]=='1')\n",
        "    GPIO.output(a2_pin, step[1]=='1')\n",
        "    GPIO.output(b1_pin, step[2]=='1')\n",
        "    GPIO.output(b2_pin, step[3]=='1')\n",
        "\n",
        "while True:\n",
        "    choice = input(\"F / B / S(stop): \")\n",
        "    if choice == 'F':\n",
        "        print(\"Forward\")\n",
        "        set_step('0000')\n",
        "        mov_frwd(1,2)\n",
        "        set_step('0000')\n",
        "        sleep(2)\n",
        "    if choice == 'B':\n",
        "        print(\"Backward\")\n",
        "        set_step('0000')\n",
        "        mov_bkwd(1,2)\n",
        "        set_step('0000')\n",
        "        sleep(2)\n",
        "    if choice == 'S':\n",
        "        print(\"Stopping\")\n",
        "        break\n",
        "\n",
        "GPIO.cleanup()"
      ],
      "metadata": {
        "id": "3_e77dqiEKuf"
      },
      "execution_count": null,
      "outputs": []
    },
    {
      "cell_type": "markdown",
      "source": [
        "EXPERIMENT 9 - Programming on Switch"
      ],
      "metadata": {
        "id": "MFfLqJ2HEaOG"
      }
    },
    {
      "cell_type": "code",
      "source": [
        "from gpiozero import LED, Button\n",
        "\n",
        "led1 = LED(17)\n",
        "led2 = LED(18)\n",
        "\n",
        "button = Button(2)\n",
        "\n",
        "led2.on()\n",
        "\n",
        "while True:\n",
        "    button.wait_for_press()\n",
        "    print(\"Button pressed!\")\n",
        "    led2.off()\n",
        "    led1.on()\n",
        "\n",
        "    button.wait_for_release()\n",
        "    print(\"Button released!\")\n",
        "    led1.off()\n",
        "    led2.on()"
      ],
      "metadata": {
        "id": "D881TKG7EboY"
      },
      "execution_count": null,
      "outputs": []
    },
    {
      "cell_type": "markdown",
      "source": [
        "EXPERIMENT 10 - Programming on LED Matrix"
      ],
      "metadata": {
        "id": "uZmhCq6PEb2x"
      }
    },
    {
      "cell_type": "code",
      "source": [],
      "metadata": {
        "id": "QcWexxAXEdID"
      },
      "execution_count": null,
      "outputs": []
    },
    {
      "cell_type": "markdown",
      "source": [
        "EXPERIMENT 11 - Programming on PIR sensor"
      ],
      "metadata": {
        "id": "IVdKE9CGEgM6"
      }
    },
    {
      "cell_type": "code",
      "source": [
        "import RPi.GPIO as GPIO\n",
        "from time import sleep\n",
        "\n",
        "pir_sensor = 18\n",
        "\n",
        "GPIO.setmode(GPIO.BOARD)\n",
        "GPIO.setup(pir_sensor, GPIO.IN)\n",
        "\n",
        "def check_sensor():\n",
        "    if GPIO.input(pir_sensor):\n",
        "      print(\"Motion detected!\")\n",
        "    else:\n",
        "      print(\"No motion detected!\")\n",
        "\n",
        "while True:\n",
        "    check_sensor()\n",
        "    sleep(1)\n",
        "\n",
        "GPIO.cleanup()"
      ],
      "metadata": {
        "id": "w-6H7UoJEhZO"
      },
      "execution_count": null,
      "outputs": []
    },
    {
      "cell_type": "markdown",
      "source": [
        "EXPERIMENT 12 - Programming on Webserver"
      ],
      "metadata": {
        "id": "9Qd4hxJ2Ehwt"
      }
    },
    {
      "cell_type": "code",
      "source": [
        "from bottle import route, run, template, request\n",
        "import json\n",
        "import random\n",
        "\n",
        "sensor_data = {\n",
        "    'temperature': 3223,\n",
        "    'humidity': 0,\n",
        "    'wind_speed': 0,\n",
        "    'rainy': False\n",
        "}\n",
        "\n",
        "@route('/')\n",
        "def index():\n",
        "    return '''\n",
        "    <form action=\"/\" method=\"post\">\n",
        "    Temperature:{temperature}<br>\n",
        "    Humidity: <input type=\"text\" name=\"humidity\"><br>\n",
        "    Wind Speed: <input type=\"text\" name=\"wind_speed\"><br>\n",
        "    Rainy: <input type=\"checkbox\" name=\"rainy\"><br>\n",
        "    <input type=\"submit\" value=\"Submit\">\n",
        "    </form>\n",
        "    '''.format(temperature = sensor_data['temperature'])\n",
        "\n",
        "\n",
        "if __name__ == '__main__':\n",
        "    run(host='localhost', port=8080, debug=True)"
      ],
      "metadata": {
        "id": "j87PPLDU2JRp"
      },
      "execution_count": null,
      "outputs": []
    }
  ]
}